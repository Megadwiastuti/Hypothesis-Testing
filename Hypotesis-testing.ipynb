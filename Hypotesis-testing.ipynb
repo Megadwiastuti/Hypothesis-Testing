{
 "cells": [
  {
   "cell_type": "markdown",
   "metadata": {},
   "source": [
    "#### Library yang Dibutuhkan:"
   ]
  },
  {
   "cell_type": "code",
   "execution_count": 30,
   "metadata": {
    "id": "v5Q6evJVmiHO"
   },
   "outputs": [],
   "source": [
    "import pandas as pd\n",
    "import numpy as np\n",
    "import seaborn as sns\n",
    "import matplotlib.pyplot as plt\n",
    "import scipy.stats as st"
   ]
  },
  {
   "cell_type": "markdown",
   "metadata": {
    "id": "kwl9bOslmiHQ"
   },
   "source": [
    "# Statistika deskriptif untuk variabel harga rumah (Column Name : SalePrice)! \n",
    "\n",
    "Ceritakan kepada tim bisnis apa makna dari nilai-nilai tersebut!\n",
    "\n",
    "Ekspektasi output : \n",
    "* ukuran pemusatan\n",
    "* ukuran penyebaran\n",
    "* interpretasi"
   ]
  },
  {
   "cell_type": "code",
   "execution_count": 31,
   "metadata": {
    "id": "tQqWfElXmiHP",
    "outputId": "1966dd2d-3c4e-4496-d93c-845bd1ab5cfb"
   },
   "outputs": [
    {
     "data": {
      "text/html": [
       "<div>\n",
       "<style scoped>\n",
       "    .dataframe tbody tr th:only-of-type {\n",
       "        vertical-align: middle;\n",
       "    }\n",
       "\n",
       "    .dataframe tbody tr th {\n",
       "        vertical-align: top;\n",
       "    }\n",
       "\n",
       "    .dataframe thead th {\n",
       "        text-align: right;\n",
       "    }\n",
       "</style>\n",
       "<table border=\"1\" class=\"dataframe\">\n",
       "  <thead>\n",
       "    <tr style=\"text-align: right;\">\n",
       "      <th></th>\n",
       "      <th>Id</th>\n",
       "      <th>MSSubClass</th>\n",
       "      <th>MSZoning</th>\n",
       "      <th>LotFrontage</th>\n",
       "      <th>LotArea</th>\n",
       "      <th>Street</th>\n",
       "      <th>Alley</th>\n",
       "      <th>LotShape</th>\n",
       "      <th>LandContour</th>\n",
       "      <th>Utilities</th>\n",
       "      <th>...</th>\n",
       "      <th>PoolArea</th>\n",
       "      <th>PoolQC</th>\n",
       "      <th>Fence</th>\n",
       "      <th>MiscFeature</th>\n",
       "      <th>MiscVal</th>\n",
       "      <th>MoSold</th>\n",
       "      <th>YrSold</th>\n",
       "      <th>SaleType</th>\n",
       "      <th>SaleCondition</th>\n",
       "      <th>SalePrice</th>\n",
       "    </tr>\n",
       "  </thead>\n",
       "  <tbody>\n",
       "    <tr>\n",
       "      <th>0</th>\n",
       "      <td>1</td>\n",
       "      <td>60</td>\n",
       "      <td>RL</td>\n",
       "      <td>65.0</td>\n",
       "      <td>8450</td>\n",
       "      <td>Pave</td>\n",
       "      <td>NaN</td>\n",
       "      <td>Reg</td>\n",
       "      <td>Lvl</td>\n",
       "      <td>AllPub</td>\n",
       "      <td>...</td>\n",
       "      <td>0</td>\n",
       "      <td>NaN</td>\n",
       "      <td>NaN</td>\n",
       "      <td>NaN</td>\n",
       "      <td>0</td>\n",
       "      <td>2</td>\n",
       "      <td>2008</td>\n",
       "      <td>WD</td>\n",
       "      <td>Normal</td>\n",
       "      <td>208500</td>\n",
       "    </tr>\n",
       "    <tr>\n",
       "      <th>1</th>\n",
       "      <td>2</td>\n",
       "      <td>20</td>\n",
       "      <td>RL</td>\n",
       "      <td>80.0</td>\n",
       "      <td>9600</td>\n",
       "      <td>Pave</td>\n",
       "      <td>NaN</td>\n",
       "      <td>Reg</td>\n",
       "      <td>Lvl</td>\n",
       "      <td>AllPub</td>\n",
       "      <td>...</td>\n",
       "      <td>0</td>\n",
       "      <td>NaN</td>\n",
       "      <td>NaN</td>\n",
       "      <td>NaN</td>\n",
       "      <td>0</td>\n",
       "      <td>5</td>\n",
       "      <td>2007</td>\n",
       "      <td>WD</td>\n",
       "      <td>Normal</td>\n",
       "      <td>181500</td>\n",
       "    </tr>\n",
       "    <tr>\n",
       "      <th>2</th>\n",
       "      <td>3</td>\n",
       "      <td>60</td>\n",
       "      <td>RL</td>\n",
       "      <td>68.0</td>\n",
       "      <td>11250</td>\n",
       "      <td>Pave</td>\n",
       "      <td>NaN</td>\n",
       "      <td>IR1</td>\n",
       "      <td>Lvl</td>\n",
       "      <td>AllPub</td>\n",
       "      <td>...</td>\n",
       "      <td>0</td>\n",
       "      <td>NaN</td>\n",
       "      <td>NaN</td>\n",
       "      <td>NaN</td>\n",
       "      <td>0</td>\n",
       "      <td>9</td>\n",
       "      <td>2008</td>\n",
       "      <td>WD</td>\n",
       "      <td>Normal</td>\n",
       "      <td>223500</td>\n",
       "    </tr>\n",
       "    <tr>\n",
       "      <th>3</th>\n",
       "      <td>4</td>\n",
       "      <td>70</td>\n",
       "      <td>RL</td>\n",
       "      <td>60.0</td>\n",
       "      <td>9550</td>\n",
       "      <td>Pave</td>\n",
       "      <td>NaN</td>\n",
       "      <td>IR1</td>\n",
       "      <td>Lvl</td>\n",
       "      <td>AllPub</td>\n",
       "      <td>...</td>\n",
       "      <td>0</td>\n",
       "      <td>NaN</td>\n",
       "      <td>NaN</td>\n",
       "      <td>NaN</td>\n",
       "      <td>0</td>\n",
       "      <td>2</td>\n",
       "      <td>2006</td>\n",
       "      <td>WD</td>\n",
       "      <td>Abnorml</td>\n",
       "      <td>140000</td>\n",
       "    </tr>\n",
       "    <tr>\n",
       "      <th>4</th>\n",
       "      <td>5</td>\n",
       "      <td>60</td>\n",
       "      <td>RL</td>\n",
       "      <td>84.0</td>\n",
       "      <td>14260</td>\n",
       "      <td>Pave</td>\n",
       "      <td>NaN</td>\n",
       "      <td>IR1</td>\n",
       "      <td>Lvl</td>\n",
       "      <td>AllPub</td>\n",
       "      <td>...</td>\n",
       "      <td>0</td>\n",
       "      <td>NaN</td>\n",
       "      <td>NaN</td>\n",
       "      <td>NaN</td>\n",
       "      <td>0</td>\n",
       "      <td>12</td>\n",
       "      <td>2008</td>\n",
       "      <td>WD</td>\n",
       "      <td>Normal</td>\n",
       "      <td>250000</td>\n",
       "    </tr>\n",
       "  </tbody>\n",
       "</table>\n",
       "<p>5 rows × 81 columns</p>\n",
       "</div>"
      ],
      "text/plain": [
       "   Id  MSSubClass MSZoning  LotFrontage  LotArea Street Alley LotShape  \\\n",
       "0   1          60       RL         65.0     8450   Pave   NaN      Reg   \n",
       "1   2          20       RL         80.0     9600   Pave   NaN      Reg   \n",
       "2   3          60       RL         68.0    11250   Pave   NaN      IR1   \n",
       "3   4          70       RL         60.0     9550   Pave   NaN      IR1   \n",
       "4   5          60       RL         84.0    14260   Pave   NaN      IR1   \n",
       "\n",
       "  LandContour Utilities  ... PoolArea PoolQC Fence MiscFeature MiscVal MoSold  \\\n",
       "0         Lvl    AllPub  ...        0    NaN   NaN         NaN       0      2   \n",
       "1         Lvl    AllPub  ...        0    NaN   NaN         NaN       0      5   \n",
       "2         Lvl    AllPub  ...        0    NaN   NaN         NaN       0      9   \n",
       "3         Lvl    AllPub  ...        0    NaN   NaN         NaN       0      2   \n",
       "4         Lvl    AllPub  ...        0    NaN   NaN         NaN       0     12   \n",
       "\n",
       "  YrSold  SaleType  SaleCondition  SalePrice  \n",
       "0   2008        WD         Normal     208500  \n",
       "1   2007        WD         Normal     181500  \n",
       "2   2008        WD         Normal     223500  \n",
       "3   2006        WD        Abnorml     140000  \n",
       "4   2008        WD         Normal     250000  \n",
       "\n",
       "[5 rows x 81 columns]"
      ]
     },
     "execution_count": 31,
     "metadata": {},
     "output_type": "execute_result"
    }
   ],
   "source": [
    "df = pd.read_csv('train.csv')\n",
    "df.head()"
   ]
  },
  {
   "cell_type": "markdown",
   "metadata": {
    "id": "fPRr9UT2miHQ"
   },
   "source": [
    "#### Ukuran Pemusatan"
   ]
  },
  {
   "cell_type": "code",
   "execution_count": 32,
   "metadata": {
    "id": "Xr4RFr6_miHQ",
    "outputId": "9f74ce3f-6adb-459e-9652-8dfc6d422a82"
   },
   "outputs": [
    {
     "name": "stdout",
     "output_type": "stream",
     "text": [
      "modus: 140000\n",
      "mean: 180921.19589041095\n",
      "median / Q2 (50%): 163000.0\n",
      "Q1 (25%): 129975.0\n",
      "Q3 (75%): 214000.0\n"
     ]
    }
   ],
   "source": [
    "print('modus:',df['SalePrice'].mode()[0])\n",
    "print('mean:',df['SalePrice'].mean())\n",
    "print('median / Q2 (50%):',df['SalePrice'].median())\n",
    "print('Q1 (25%):',df['SalePrice'].quantile(0.25))\n",
    "print('Q3 (75%):',df['SalePrice'].quantile(0.75))"
   ]
  },
  {
   "cell_type": "markdown",
   "metadata": {},
   "source": [
    "#### Interpretasi"
   ]
  },
  {
   "cell_type": "markdown",
   "metadata": {
    "id": "YLpk_RcLmiHS"
   },
   "source": [
    "- **Modus:** Mayoritas harga rumah berada di angka **140,000 USD**\n",
    "- **Rata-rata:** Harga 1 rumah berkisar di angka **180,921 USD**\n",
    "- **Median (Q2):** 50% harga rumah berada di bawah **163,000 USD** atau diatas **163,000 USD**\n",
    "- **Q1:** 25% harga rumah berada di bawah **129,975 USD**\n",
    "- **Q3:** 25% harga rumah berada di atas **214,000 USD**"
   ]
  },
  {
   "cell_type": "markdown",
   "metadata": {
    "id": "4Dj29qKXmiHR"
   },
   "source": [
    "#### Ukuran Penyebaran"
   ]
  },
  {
   "cell_type": "code",
   "execution_count": 50,
   "metadata": {
    "id": "TQwXg_fUmiHR",
    "outputId": "3f327d6c-4da9-4d30-d6c2-aff32640a6bf"
   },
   "outputs": [
    {
     "name": "stdout",
     "output_type": "stream",
     "text": [
      "Range: 720100\n",
      "standard deviation: 79442.50288288663\n",
      "variance: 6311111264.297451\n",
      "Inter Quartile Range (IQR): 84025.0\n"
     ]
    }
   ],
   "source": [
    "print('Range:',df['SalePrice'].max()-df['SalePrice'].min())\n",
    "print('standard deviation:',df['SalePrice'].std())\n",
    "print('variance:',df['SalePrice'].var())\n",
    "print('Inter Quartile Range (IQR):',df['SalePrice'].quantile(0.75)-df['SalePrice'].quantile(0.25))"
   ]
  },
  {
   "cell_type": "markdown",
   "metadata": {},
   "source": [
    "#### Interpretasi"
   ]
  },
  {
   "cell_type": "markdown",
   "metadata": {
    "id": "2oUFG9CsmiHS"
   },
   "source": [
    "- $\\textbf{Rentang:}$ harga rumah paling mahal dan paling murah yaitu **720100 USD**\n",
    "- $\\textbf{std/var:}$ harga rumah berkisar antara **180,921 - 79,442 USD** sampai **180,921 + 79,442 USD**\n",
    "- $\\textbf{interquartile:}$ jarak antara Q3 dan Q1 sebesar **8884025.0 USD**"
   ]
  },
  {
   "cell_type": "markdown",
   "metadata": {
    "id": "eWdci4IXmiHS"
   },
   "source": [
    "# Statistika deskriptif untuk variabel harga rumah (Column Name : SalePrice) setiap tahunnya (Column Name : YrSold)!\n",
    "Secara deskriptif jelaskan apakah ada perbedaan setiap tahunnya atau tidak?\n",
    "\n",
    "Ekspektasi output : \n",
    "* ukuran pemusatan\n",
    "* ukuran penyebaran\n",
    "* interpretasi"
   ]
  },
  {
   "cell_type": "code",
   "execution_count": 35,
   "metadata": {},
   "outputs": [],
   "source": [
    "def Q1(x):\n",
    "    return x.quantile(0.25)\n",
    "def Q3(x):\n",
    "    return x.quantile(0.75)"
   ]
  },
  {
   "cell_type": "markdown",
   "metadata": {},
   "source": [
    "#### Ukuran Pemusatan dan Penyebaran"
   ]
  },
  {
   "cell_type": "code",
   "execution_count": 36,
   "metadata": {},
   "outputs": [
    {
     "data": {
      "text/html": [
       "<div>\n",
       "<style scoped>\n",
       "    .dataframe tbody tr th:only-of-type {\n",
       "        vertical-align: middle;\n",
       "    }\n",
       "\n",
       "    .dataframe tbody tr th {\n",
       "        vertical-align: top;\n",
       "    }\n",
       "\n",
       "    .dataframe thead th {\n",
       "        text-align: right;\n",
       "    }\n",
       "</style>\n",
       "<table border=\"1\" class=\"dataframe\">\n",
       "  <thead>\n",
       "    <tr style=\"text-align: right;\">\n",
       "      <th></th>\n",
       "      <th>Tahun</th>\n",
       "      <th>Mean</th>\n",
       "      <th>Median</th>\n",
       "      <th>Q1</th>\n",
       "      <th>Q3</th>\n",
       "      <th>Std</th>\n",
       "      <th>var</th>\n",
       "    </tr>\n",
       "  </thead>\n",
       "  <tbody>\n",
       "    <tr>\n",
       "      <th>1</th>\n",
       "      <td>2007</td>\n",
       "      <td>186063.151976</td>\n",
       "      <td>167000</td>\n",
       "      <td>129900</td>\n",
       "      <td>219500.0</td>\n",
       "      <td>85768.171410</td>\n",
       "      <td>7.356179e+09</td>\n",
       "    </tr>\n",
       "    <tr>\n",
       "      <th>0</th>\n",
       "      <td>2006</td>\n",
       "      <td>182549.458599</td>\n",
       "      <td>163995</td>\n",
       "      <td>131375</td>\n",
       "      <td>218782.5</td>\n",
       "      <td>79426.838855</td>\n",
       "      <td>6.308623e+09</td>\n",
       "    </tr>\n",
       "    <tr>\n",
       "      <th>3</th>\n",
       "      <td>2009</td>\n",
       "      <td>179432.103550</td>\n",
       "      <td>162000</td>\n",
       "      <td>125250</td>\n",
       "      <td>212750.0</td>\n",
       "      <td>80879.237311</td>\n",
       "      <td>6.541451e+09</td>\n",
       "    </tr>\n",
       "    <tr>\n",
       "      <th>4</th>\n",
       "      <td>2010</td>\n",
       "      <td>177393.674286</td>\n",
       "      <td>155000</td>\n",
       "      <td>128100</td>\n",
       "      <td>213250.0</td>\n",
       "      <td>80451.280085</td>\n",
       "      <td>6.472408e+09</td>\n",
       "    </tr>\n",
       "    <tr>\n",
       "      <th>2</th>\n",
       "      <td>2008</td>\n",
       "      <td>177360.838816</td>\n",
       "      <td>164000</td>\n",
       "      <td>131250</td>\n",
       "      <td>207000.0</td>\n",
       "      <td>69735.610685</td>\n",
       "      <td>4.863055e+09</td>\n",
       "    </tr>\n",
       "  </tbody>\n",
       "</table>\n",
       "</div>"
      ],
      "text/plain": [
       "   Tahun           Mean  Median      Q1        Q3           Std           var\n",
       "1   2007  186063.151976  167000  129900  219500.0  85768.171410  7.356179e+09\n",
       "0   2006  182549.458599  163995  131375  218782.5  79426.838855  6.308623e+09\n",
       "3   2009  179432.103550  162000  125250  212750.0  80879.237311  6.541451e+09\n",
       "4   2010  177393.674286  155000  128100  213250.0  80451.280085  6.472408e+09\n",
       "2   2008  177360.838816  164000  131250  207000.0  69735.610685  4.863055e+09"
      ]
     },
     "execution_count": 36,
     "metadata": {},
     "output_type": "execute_result"
    }
   ],
   "source": [
    "data_agg = df.groupby('YrSold').agg({'SalePrice': ['mean','median',Q1,Q3,'std','var']}).reset_index()\n",
    "data_agg.columns = ['Tahun','Mean','Median','Q1','Q3','Std','var']\n",
    "data_agg.sort_values('Mean',ascending = False)"
   ]
  },
  {
   "cell_type": "markdown",
   "metadata": {},
   "source": [
    "#### Interpretasi"
   ]
  },
  {
   "cell_type": "markdown",
   "metadata": {},
   "source": [
    "terdapat perbedaan nilai mean, median, Q1, Q2, stabdard Rata-rata harga rumah paling tinggi ada pada **tahun 2007** dan rata-rata terendah pada **tahun 2008**, kemudian jika dilihat dari standard deviation dan variancenya pada tahun 2007 memiliki beragam harga rumah dibandingkan dengan harga rumah pada tahun yang lainnya."
   ]
  },
  {
   "cell_type": "markdown",
   "metadata": {
    "id": "9i8rxowpmiHU"
   },
   "source": [
    "# Grafik Histogram Distribusi rumah"
   ]
  },
  {
   "cell_type": "code",
   "execution_count": 37,
   "metadata": {
    "id": "JL2YaA4ymiHU",
    "outputId": "61b10155-743c-43b4-b455-88614d3a8282"
   },
   "outputs": [
    {
     "data": {
      "text/plain": [
       "Text(180921, 125, 'Mean')"
      ]
     },
     "execution_count": 37,
     "metadata": {},
     "output_type": "execute_result"
    },
    {
     "data": {
      "image/png": "[encoded data removed]",
      "text/plain": [
       "<Figure size 1296x576 with 1 Axes>"
      ]
     },
     "metadata": {
      "needs_background": "light"
     },
     "output_type": "display_data"
    }
   ],
   "source": [
    "#histogram plot\n",
    "plt.figure(figsize=(18,8))\n",
    "ax = sns.histplot(df, x='SalePrice', linewidth=0.4, kde = True)\n",
    "\n",
    "# add label\n",
    "plt.xlabel('Sale Price', fontsize = 14)\n",
    "plt.title('Distribusi Sale Price Positively Skewed',fontsize = 20,fontweight='bold')\n",
    "plt.axvline(140000, linestyle='--', color='red')\n",
    "plt.axvline(163000, linestyle='--', color='red')\n",
    "plt.axvline(180921.19589041095, linestyle='--', color='red')\n",
    "plt.text(140000, 175, s='Mode',fontsize=16)\n",
    "plt.text(163000, 140, s='Median',fontsize=16)\n",
    "plt.text(180921, 125, s='Mean',fontsize=16)"
   ]
  },
  {
   "cell_type": "markdown",
   "metadata": {},
   "source": [
    "#### Analisa dan Interpretasi:"
   ]
  },
  {
   "cell_type": "markdown",
   "metadata": {
    "id": "ZT_wQ3IpmiHV"
   },
   "source": [
    "**Analisa:** \n",
    "Dari histogram diatas diketahui bahwa harga rumah memiliki sebaran yang skewed ke arah skewed yang positif/**Skewed Right (Positively Skewed)** dimana nilai **mode < median < mean**. \n",
    "\n",
    "**Interpretasi:** \n",
    "Dalam penentuan harga rumah jika kita menggunakan mean maka harga rumah akan lebih besar/mahal dibandingkan dengan menggunakan median. Sehingga, untuk data tersebut **lebih baik menggunakan median dibandingkan dengan menggunakan mean**."
   ]
  },
  {
   "cell_type": "markdown",
   "metadata": {},
   "source": [
    "# Hypotesis Testing"
   ]
  },
  {
   "cell_type": "markdown",
   "metadata": {
    "id": "joRS8P0smiHW"
   },
   "source": [
    "#### ● Penentuan hipotesis\n",
    "\n",
    "Apakah setiap tahunnya harga rumah itu pasti naik? apakah harga rumah setiap tahunnya sama atau berbeda?\n",
    "* H0 : rata-rata harga rumah setiap tahun **sama**\n",
    "* H1 : rata-rata harga rumah setiap tahun **berbeda** "
   ]
  },
  {
   "cell_type": "markdown",
   "metadata": {
    "id": "ucutwBdLmiHW"
   },
   "source": [
    "#### ● Pengujian yang digunakan\n",
    "Kita akan melakukan **Anova (F-Distribution)**"
   ]
  },
  {
   "cell_type": "markdown",
   "metadata": {
    "id": "jrBUCsCOmiHX"
   },
   "source": [
    "#### ● Deteksi asumsi beserta cara penanganannya"
   ]
  },
  {
   "cell_type": "code",
   "execution_count": 38,
   "metadata": {
    "id": "PBSpQ4u6miHX",
    "outputId": "a563f049-4db4-473a-9ea5-57095f70eb94"
   },
   "outputs": [
    {
     "data": {
      "text/html": [
       "<div>\n",
       "<style scoped>\n",
       "    .dataframe tbody tr th:only-of-type {\n",
       "        vertical-align: middle;\n",
       "    }\n",
       "\n",
       "    .dataframe tbody tr th {\n",
       "        vertical-align: top;\n",
       "    }\n",
       "\n",
       "    .dataframe thead th {\n",
       "        text-align: right;\n",
       "    }\n",
       "</style>\n",
       "<table border=\"1\" class=\"dataframe\">\n",
       "  <thead>\n",
       "    <tr style=\"text-align: right;\">\n",
       "      <th></th>\n",
       "      <th>Tahun</th>\n",
       "      <th>Mean</th>\n",
       "    </tr>\n",
       "  </thead>\n",
       "  <tbody>\n",
       "    <tr>\n",
       "      <th>0</th>\n",
       "      <td>2006</td>\n",
       "      <td>182549.458599</td>\n",
       "    </tr>\n",
       "    <tr>\n",
       "      <th>1</th>\n",
       "      <td>2007</td>\n",
       "      <td>186063.151976</td>\n",
       "    </tr>\n",
       "    <tr>\n",
       "      <th>2</th>\n",
       "      <td>2008</td>\n",
       "      <td>177360.838816</td>\n",
       "    </tr>\n",
       "    <tr>\n",
       "      <th>3</th>\n",
       "      <td>2009</td>\n",
       "      <td>179432.103550</td>\n",
       "    </tr>\n",
       "    <tr>\n",
       "      <th>4</th>\n",
       "      <td>2010</td>\n",
       "      <td>177393.674286</td>\n",
       "    </tr>\n",
       "  </tbody>\n",
       "</table>\n",
       "</div>"
      ],
      "text/plain": [
       "   Tahun           Mean\n",
       "0   2006  182549.458599\n",
       "1   2007  186063.151976\n",
       "2   2008  177360.838816\n",
       "3   2009  179432.103550\n",
       "4   2010  177393.674286"
      ]
     },
     "execution_count": 38,
     "metadata": {},
     "output_type": "execute_result"
    }
   ],
   "source": [
    "data_agg = df.groupby('YrSold').agg({'SalePrice': ['mean']}).reset_index()\n",
    "data_agg.columns = ['Tahun','Mean']\n",
    "data_agg"
   ]
  },
  {
   "cell_type": "markdown",
   "metadata": {
    "id": "rUY7_yDPmiHX"
   },
   "source": [
    "#### ● Hasil Pengujian Hipotesis"
   ]
  },
  {
   "cell_type": "code",
   "execution_count": 39,
   "metadata": {
    "id": "RlUO7MrwmiHY",
    "outputId": "7acbd05f-5838-45fd-f8d4-72fe9a7b5e00"
   },
   "outputs": [
    {
     "data": {
      "text/plain": [
       "F_onewayResult(statistic=0.6455252211679311, pvalue=0.6300887663573457)"
      ]
     },
     "execution_count": 39,
     "metadata": {},
     "output_type": "execute_result"
    }
   ],
   "source": [
    "# Pengujian hipotesis dengan cara Anova\n",
    "\n",
    "df1 = df[df['YrSold'] == 2006]\n",
    "df2 = df[df['YrSold'] == 2007]\n",
    "df3 = df[df['YrSold'] == 2008]\n",
    "df4 = df[df['YrSold'] == 2009]\n",
    "df5 = df[df['YrSold'] == 2010]\n",
    "\n",
    "Anova = st.f_oneway(df1['SalePrice'], df2['SalePrice'], df3['SalePrice'], df4['SalePrice'], df5['SalePrice'])\n",
    "Anova"
   ]
  },
  {
   "cell_type": "code",
   "execution_count": 40,
   "metadata": {
    "id": "QtWSfvkdmiHY",
    "outputId": "d0693f06-0ee9-4d2f-d74c-d0ee69a139e3"
   },
   "outputs": [
    {
     "name": "stdout",
     "output_type": "stream",
     "text": [
      "P-Value : 0.6300887663573457\n"
     ]
    }
   ],
   "source": [
    "p_value = Anova.pvalue\n",
    "alpha = 0.05\n",
    "print('P-Value :',p_value)"
   ]
  },
  {
   "cell_type": "code",
   "execution_count": 41,
   "metadata": {},
   "outputs": [
    {
     "name": "stdout",
     "output_type": "stream",
     "text": [
      "Tidak cukup bukti menyatakan bahwa rata-rata harga rumah setiap tahun sama\n"
     ]
    }
   ],
   "source": [
    "if p_value >= alpha:\n",
    "    print('Tidak cukup bukti menyatakan bahwa rata-rata harga rumah setiap tahun sama')\n",
    "else:\n",
    "    print('Cukup bukti menyatakan (Tolak H0) bahwa rata-rata harga rumah setiap tahun berbeda')"
   ]
  },
  {
   "cell_type": "markdown",
   "metadata": {
    "id": "Dsfpam0EmiHY"
   },
   "source": [
    "#### ● Hasil uji hipotesis\n",
    "\n",
    "hasil uji hipotesis menyatakan bahwa **p-value > alpha**, sehingga diambil keputusan bahwa tidak ada perbedaan yang begitu signifikan harga rumah setiap tahunnya. \n",
    "\n",
    "#### ● Kesimpulan dan interpretasi\n",
    "\n",
    "Dapat disimpukan bahwa rata-rata harga rumah tidak mengalami kenaikan pada setiap tahunnya."
   ]
  }
 ],
 "metadata": {
  "colab": {
   "name": "inna-statistics-hw.ipynb",
   "provenance": []
  },
  "kernelspec": {
   "display_name": "Python 3",
   "language": "python",
   "name": "python3"
  },
  "language_info": {
   "codemirror_mode": {
    "name": "ipython",
    "version": 3
   },
   "file_extension": ".py",
   "mimetype": "text/x-python",
   "name": "python",
   "nbconvert_exporter": "python",
   "pygments_lexer": "ipython3",
   "version": "3.8.8"
  }
 },
 "nbformat": 4,
 "nbformat_minor": 4
}
